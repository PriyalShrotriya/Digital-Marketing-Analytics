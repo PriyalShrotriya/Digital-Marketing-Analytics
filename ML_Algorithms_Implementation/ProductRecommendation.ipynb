{
 "cells": [
  {
   "cell_type": "markdown",
   "metadata": {},
   "source": [
    "# Product Recommendation\n",
    "\n",
    "Training association rule models (Apriori and ECLAT) to find the most related items bought by customers of Home Depot.\n",
    "\n",
    "This algorithm associate products preferences by most of the customers and can be used to generate products recommendation and help on displaying products strategy."
   ]
  },
  {
   "cell_type": "code",
   "execution_count": 1,
   "metadata": {},
   "outputs": [],
   "source": [
    "# Importing the libraries\n",
    "import numpy as np\n",
    "import matplotlib.pyplot as plt\n",
    "import pandas as pd"
   ]
  },
  {
   "cell_type": "code",
   "execution_count": 11,
   "metadata": {},
   "outputs": [],
   "source": [
    "# Data Loading\n",
    "dataset = pd.read_csv(r\"C:\\Users\\AJINKYA KUNJIR\\Desktop\\trialproducts1.csv\",sep= ',')\n",
    "\n",
    "transactions = []\n",
    "for i in range(0, 3992):\n",
    "    transactions.append([str(dataset.values[i,j]) for j in range(1, 12)])"
   ]
  },
  {
   "cell_type": "code",
   "execution_count": 12,
   "metadata": {},
   "outputs": [
    {
     "data": {
      "text/html": [
       "<div>\n",
       "<style scoped>\n",
       "    .dataframe tbody tr th:only-of-type {\n",
       "        vertical-align: middle;\n",
       "    }\n",
       "\n",
       "    .dataframe tbody tr th {\n",
       "        vertical-align: top;\n",
       "    }\n",
       "\n",
       "    .dataframe thead th {\n",
       "        text-align: right;\n",
       "    }\n",
       "</style>\n",
       "<table border=\"1\" class=\"dataframe\">\n",
       "  <thead>\n",
       "    <tr style=\"text-align: right;\">\n",
       "      <th></th>\n",
       "      <th>CustomerID</th>\n",
       "      <th>Product1</th>\n",
       "      <th>Product2</th>\n",
       "      <th>Product3</th>\n",
       "      <th>Product4</th>\n",
       "      <th>Product5</th>\n",
       "      <th>Product6</th>\n",
       "      <th>Product7</th>\n",
       "      <th>Product8</th>\n",
       "      <th>Product9</th>\n",
       "      <th>Product10</th>\n",
       "      <th>Product11</th>\n",
       "      <th>Product12</th>\n",
       "    </tr>\n",
       "  </thead>\n",
       "  <tbody>\n",
       "    <tr>\n",
       "      <th>0</th>\n",
       "      <td>1</td>\n",
       "      <td>Mattress</td>\n",
       "      <td>Bedframe</td>\n",
       "      <td>Pillow</td>\n",
       "      <td>Pillow cases</td>\n",
       "      <td>Blankets</td>\n",
       "      <td>Wall lights</td>\n",
       "      <td>Ceiling lights</td>\n",
       "      <td>Curtain hooks</td>\n",
       "      <td>Bedframe</td>\n",
       "      <td>TV stand</td>\n",
       "      <td>Ottomans</td>\n",
       "      <td>Accent table</td>\n",
       "    </tr>\n",
       "    <tr>\n",
       "      <th>1</th>\n",
       "      <td>2</td>\n",
       "      <td>Media storage</td>\n",
       "      <td>TV stand</td>\n",
       "      <td>Blankets</td>\n",
       "      <td>NaN</td>\n",
       "      <td>NaN</td>\n",
       "      <td>NaN</td>\n",
       "      <td>NaN</td>\n",
       "      <td>NaN</td>\n",
       "      <td>NaN</td>\n",
       "      <td>NaN</td>\n",
       "      <td>NaN</td>\n",
       "      <td>NaN</td>\n",
       "    </tr>\n",
       "    <tr>\n",
       "      <th>2</th>\n",
       "      <td>3</td>\n",
       "      <td>Bedframe</td>\n",
       "      <td>NaN</td>\n",
       "      <td>NaN</td>\n",
       "      <td>NaN</td>\n",
       "      <td>NaN</td>\n",
       "      <td>NaN</td>\n",
       "      <td>NaN</td>\n",
       "      <td>NaN</td>\n",
       "      <td>NaN</td>\n",
       "      <td>NaN</td>\n",
       "      <td>NaN</td>\n",
       "      <td>NaN</td>\n",
       "    </tr>\n",
       "    <tr>\n",
       "      <th>3</th>\n",
       "      <td>4</td>\n",
       "      <td>Pillow cases</td>\n",
       "      <td>Pillow</td>\n",
       "      <td>NaN</td>\n",
       "      <td>NaN</td>\n",
       "      <td>NaN</td>\n",
       "      <td>NaN</td>\n",
       "      <td>NaN</td>\n",
       "      <td>NaN</td>\n",
       "      <td>NaN</td>\n",
       "      <td>NaN</td>\n",
       "      <td>NaN</td>\n",
       "      <td>NaN</td>\n",
       "    </tr>\n",
       "    <tr>\n",
       "      <th>4</th>\n",
       "      <td>5</td>\n",
       "      <td>Accent table</td>\n",
       "      <td>Ottomans</td>\n",
       "      <td>Shower curtain</td>\n",
       "      <td>NaN</td>\n",
       "      <td>NaN</td>\n",
       "      <td>NaN</td>\n",
       "      <td>NaN</td>\n",
       "      <td>NaN</td>\n",
       "      <td>NaN</td>\n",
       "      <td>NaN</td>\n",
       "      <td>NaN</td>\n",
       "      <td>NaN</td>\n",
       "    </tr>\n",
       "  </tbody>\n",
       "</table>\n",
       "</div>"
      ],
      "text/plain": [
       "   CustomerID       Product1  Product2        Product3      Product4  \\\n",
       "0           1       Mattress  Bedframe          Pillow  Pillow cases   \n",
       "1           2  Media storage  TV stand        Blankets           NaN   \n",
       "2           3       Bedframe       NaN             NaN           NaN   \n",
       "3           4   Pillow cases    Pillow             NaN           NaN   \n",
       "4           5   Accent table  Ottomans  Shower curtain           NaN   \n",
       "\n",
       "   Product5     Product6        Product7       Product8  Product9 Product10  \\\n",
       "0  Blankets  Wall lights  Ceiling lights  Curtain hooks  Bedframe  TV stand   \n",
       "1       NaN          NaN             NaN            NaN       NaN       NaN   \n",
       "2       NaN          NaN             NaN            NaN       NaN       NaN   \n",
       "3       NaN          NaN             NaN            NaN       NaN       NaN   \n",
       "4       NaN          NaN             NaN            NaN       NaN       NaN   \n",
       "\n",
       "  Product11     Product12  \n",
       "0  Ottomans  Accent table  \n",
       "1       NaN           NaN  \n",
       "2       NaN           NaN  \n",
       "3       NaN           NaN  \n",
       "4       NaN           NaN  "
      ]
     },
     "execution_count": 12,
     "metadata": {},
     "output_type": "execute_result"
    }
   ],
   "source": [
    "dataset.head(5)"
   ]
  },
  {
   "cell_type": "code",
   "execution_count": 13,
   "metadata": {},
   "outputs": [
    {
     "data": {
      "text/plain": [
       "[['Mattress',\n",
       "  'Bedframe',\n",
       "  'Pillow',\n",
       "  'Pillow cases',\n",
       "  'Blankets',\n",
       "  'Wall lights',\n",
       "  'Ceiling lights',\n",
       "  'Curtain hooks',\n",
       "  'Bedframe',\n",
       "  'TV stand',\n",
       "  'Ottomans'],\n",
       " ['Media storage',\n",
       "  'TV stand',\n",
       "  'Blankets',\n",
       "  'nan',\n",
       "  'nan',\n",
       "  'nan',\n",
       "  'nan',\n",
       "  'nan',\n",
       "  'nan',\n",
       "  'nan',\n",
       "  'nan']]"
      ]
     },
     "execution_count": 13,
     "metadata": {},
     "output_type": "execute_result"
    }
   ],
   "source": [
    "# Inspecting elements of the list\n",
    "transactions[:2]"
   ]
  },
  {
   "cell_type": "code",
   "execution_count": 14,
   "metadata": {},
   "outputs": [],
   "source": [
    "## Training Apriori on the dataset\n",
    "# The hyperparameters choosen on this training are:\n",
    "# min_support = items bought more than 3 times a day * 7 days (week) / 3992 customers = 0.0052\n",
    "# min_confidence: at least 20%, min_lift = minimum of 3 (less than that is too low)\n",
    "\n",
    "from apyori import apriori\n",
    "rules = apriori(transactions, min_support = 0.0052, min_confidence = 0.3, min_lift = 2, min_length = 2)"
   ]
  },
  {
   "cell_type": "code",
   "execution_count": 15,
   "metadata": {},
   "outputs": [],
   "source": [
    "# Visualising the results\n",
    "results = list(rules)"
   ]
  },
  {
   "cell_type": "code",
   "execution_count": 16,
   "metadata": {},
   "outputs": [
    {
     "data": {
      "text/plain": [
       "[RelationRecord(items=frozenset({'Pillow', 'Ceiling lights'}), support=0.005761523046092184, ordered_statistics=[OrderedStatistic(items_base=frozenset({'Ceiling lights'}), items_add=frozenset({'Pillow'}), confidence=0.3194444444444444, lift=2.301845166466105)]),\n",
       " RelationRecord(items=frozenset({'Accent table', 'TV stand', 'Pillow'}), support=0.005260521042084168, ordered_statistics=[OrderedStatistic(items_base=frozenset({'Accent table', 'TV stand'}), items_add=frozenset({'Pillow'}), confidence=0.3, lift=2.1617328519855596)]),\n",
       " RelationRecord(items=frozenset({'Chairs', 'Mattress', 'Bedframe'}), support=0.010270541082164329, ordered_statistics=[OrderedStatistic(items_base=frozenset({'Chairs', 'Bedframe'}), items_add=frozenset({'Mattress'}), confidence=0.5256410256410257, lift=2.0451841855350628)]),\n",
       " RelationRecord(items=frozenset({'Chairs', 'Bedframe', 'Pillow'}), support=0.006763527054108216, ordered_statistics=[OrderedStatistic(items_base=frozenset({'Chairs', 'Bedframe'}), items_add=frozenset({'Pillow'}), confidence=0.34615384615384615, lift=2.4943071369064147)]),\n",
       " RelationRecord(items=frozenset({'Mattress', 'Bedframe', 'Curtain hooks'}), support=0.0070140280561122245, ordered_statistics=[OrderedStatistic(items_base=frozenset({'Bedframe', 'Curtain hooks'}), items_add=frozenset({'Mattress'}), confidence=0.5283018867924528, lift=2.0555371657655668)]),\n",
       " RelationRecord(items=frozenset({'Curtain rods', 'Bedframe', 'Pillow'}), support=0.008016032064128256, ordered_statistics=[OrderedStatistic(items_base=frozenset({'Curtain rods', 'Bedframe'}), items_add=frozenset({'Pillow'}), confidence=0.3076923076923077, lift=2.217161899472369)]),\n",
       " RelationRecord(items=frozenset({'Curtain rods', 'Bedframe', 'TV stand'}), support=0.006012024048096192, ordered_statistics=[OrderedStatistic(items_base=frozenset({'Curtain rods', 'TV stand'}), items_add=frozenset({'Bedframe'}), confidence=0.47058823529411764, lift=2.0598555211558307)]),\n",
       " RelationRecord(items=frozenset({'Mattress', 'Soap dishes', 'Bedframe'}), support=0.006763527054108216, ordered_statistics=[OrderedStatistic(items_base=frozenset({'Soap dishes', 'Mattress'}), items_add=frozenset({'Bedframe'}), confidence=0.47368421052631576, lift=2.073407202216066)]),\n",
       " RelationRecord(items=frozenset({'Mattress', 'Bedframe', 'Sofa'}), support=0.0070140280561122245, ordered_statistics=[OrderedStatistic(items_base=frozenset({'Bedframe', 'Sofa'}), items_add=frozenset({'Mattress'}), confidence=0.6086956521739131, lift=2.368336299686414), OrderedStatistic(items_base=frozenset({'Mattress', 'Sofa'}), items_add=frozenset({'Bedframe'}), confidence=0.48275862068965514, lift=2.113127646702964)]),\n",
       " RelationRecord(items=frozenset({'Pillow', 'Bedframe', 'Pillow cases'}), support=0.009018036072144289, ordered_statistics=[OrderedStatistic(items_base=frozenset({'Pillow cases', 'Bedframe'}), items_add=frozenset({'Pillow'}), confidence=0.32727272727272727, lift=2.358254020347883)]),\n",
       " RelationRecord(items=frozenset({'Pillow', 'Bedframe', 'TV stand'}), support=0.009018036072144289, ordered_statistics=[OrderedStatistic(items_base=frozenset({'Bedframe', 'TV stand'}), items_add=frozenset({'Pillow'}), confidence=0.3130434782608696, lift=2.255721236854497)]),\n",
       " RelationRecord(items=frozenset({'Pillow', 'Bedframe', 'Wall lights'}), support=0.005260521042084168, ordered_statistics=[OrderedStatistic(items_base=frozenset({'Wall lights', 'Bedframe'}), items_add=frozenset({'Pillow'}), confidence=0.3442622950819672, lift=2.4806770432621175)]),\n",
       " RelationRecord(items=frozenset({'Mattress', 'Chairs', 'TV stand'}), support=0.00751503006012024, ordered_statistics=[OrderedStatistic(items_base=frozenset({'Chairs', 'TV stand'}), items_add=frozenset({'Mattress'}), confidence=0.625, lift=2.4317738791423)]),\n",
       " RelationRecord(items=frozenset({'Curtain rods', 'Ottomans', 'Pillow'}), support=0.01277555110220441, ordered_statistics=[OrderedStatistic(items_base=frozenset({'Curtain rods', 'Ottomans'}), items_add=frozenset({'Pillow'}), confidence=0.31677018633540377, lift=2.282575061102765)]),\n",
       " RelationRecord(items=frozenset({'Pillow', 'Mattress', 'Pillow cases'}), support=0.01002004008016032, ordered_statistics=[OrderedStatistic(items_base=frozenset({'Pillow cases', 'Mattress'}), items_add=frozenset({'Pillow'}), confidence=0.34782608695652173, lift=2.5063569298383297)]),\n",
       " RelationRecord(items=frozenset({'Pillow', 'Wall lights', 'Ottomans'}), support=0.007264529058116233, ordered_statistics=[OrderedStatistic(items_base=frozenset({'Wall lights', 'Ottomans'}), items_add=frozenset({'Pillow'}), confidence=0.32954545454545453, lift=2.3746307843780765)]),\n",
       " RelationRecord(items=frozenset({'Accent table', 'Mattress', 'Bedframe', 'Bathroom organizer'}), support=0.005761523046092184, ordered_statistics=[OrderedStatistic(items_base=frozenset({'Accent table', 'Bedframe', 'Bathroom organizer'}), items_add=frozenset({'Mattress'}), confidence=0.5227272727272727, lift=2.0338472443735602), OrderedStatistic(items_base=frozenset({'Accent table', 'Mattress', 'Bathroom organizer'}), items_add=frozenset({'Bedframe'}), confidence=0.4693877551020408, lift=2.054600787683494)]),\n",
       " RelationRecord(items=frozenset({'Blankets', 'Bedframe', 'Bathroom organizer', 'Pillow'}), support=0.005761523046092184, ordered_statistics=[OrderedStatistic(items_base=frozenset({'Blankets', 'Bedframe', 'Bathroom organizer'}), items_add=frozenset({'Pillow'}), confidence=0.3333333333333333, lift=2.401925391095066), OrderedStatistic(items_base=frozenset({'Blankets', 'Bathroom organizer', 'Pillow'}), items_add=frozenset({'Bedframe'}), confidence=0.45999999999999996, lift=2.0135087719298244)]),\n",
       " RelationRecord(items=frozenset({'Pillow', 'Mattress', 'Bedframe', 'Bathroom organizer'}), support=0.0077655310621242485, ordered_statistics=[OrderedStatistic(items_base=frozenset({'Mattress', 'Bedframe', 'Bathroom organizer'}), items_add=frozenset({'Pillow'}), confidence=0.3229166666666667, lift=2.3268652226233457), OrderedStatistic(items_base=frozenset({'Pillow', 'Mattress', 'Bathroom organizer'}), items_add=frozenset({'Bedframe'}), confidence=0.47692307692307695, lift=2.0875843454790823)]),\n",
       " RelationRecord(items=frozenset({'Pillow cases', 'Mattress', 'Bedframe', 'Bathroom organizer'}), support=0.005511022044088177, ordered_statistics=[OrderedStatistic(items_base=frozenset({'Pillow cases', 'Bedframe', 'Bathroom organizer'}), items_add=frozenset({'Mattress'}), confidence=0.5365853658536586, lift=2.0877668425807068), OrderedStatistic(items_base=frozenset({'Pillow cases', 'Mattress', 'Bathroom organizer'}), items_add=frozenset({'Bedframe'}), confidence=0.55, lift=2.4074561403508774)]),\n",
       " RelationRecord(items=frozenset({'Media storage', 'Bedframe', 'Bathroom organizer', 'Pillow'}), support=0.006012024048096192, ordered_statistics=[OrderedStatistic(items_base=frozenset({'Media storage', 'Bedframe', 'Bathroom organizer'}), items_add=frozenset({'Pillow'}), confidence=0.3333333333333333, lift=2.401925391095066), OrderedStatistic(items_base=frozenset({'Pillow', 'Bedframe', 'Bathroom organizer'}), items_add=frozenset({'Media storage'}), confidence=0.39344262295081966, lift=2.011040910140425), OrderedStatistic(items_base=frozenset({'Media storage', 'Bathroom organizer', 'Pillow'}), items_add=frozenset({'Bedframe'}), confidence=0.5217391304347826, lift=2.2837528604118993)]),\n",
       " RelationRecord(items=frozenset({'Blankets', 'Media storage', 'Mattress', 'Bathroom organizer'}), support=0.006513026052104208, ordered_statistics=[OrderedStatistic(items_base=frozenset({'Media storage', 'Mattress', 'Bathroom organizer'}), items_add=frozenset({'Blankets'}), confidence=0.40625, lift=2.09258064516129)]),\n",
       " RelationRecord(items=frozenset({'Blankets', 'Mattress', 'Bathroom organizer', 'Pillow'}), support=0.006763527054108216, ordered_statistics=[OrderedStatistic(items_base=frozenset({'Blankets', 'Bathroom organizer', 'Pillow'}), items_add=frozenset({'Mattress'}), confidence=0.5399999999999999, lift=2.101052631578947), OrderedStatistic(items_base=frozenset({'Pillow', 'Mattress', 'Bathroom organizer'}), items_add=frozenset({'Blankets'}), confidence=0.4153846153846154, lift=2.139632754342432)]),\n",
       " RelationRecord(items=frozenset({'Blankets', 'Media storage', 'Bathroom organizer', 'Ottomans'}), support=0.009769539078156312, ordered_statistics=[OrderedStatistic(items_base=frozenset({'Media storage', 'Bathroom organizer', 'Ottomans'}), items_add=frozenset({'Blankets'}), confidence=0.4105263157894737, lift=2.1146078098471985)]),\n",
       " RelationRecord(items=frozenset({'Curtain rods', 'Bathroom organizer', 'Ottomans', 'Pillow'}), support=0.005761523046092184, ordered_statistics=[OrderedStatistic(items_base=frozenset({'Curtain rods', 'Bathroom organizer', 'Ottomans'}), items_add=frozenset({'Pillow'}), confidence=0.35384615384615387, lift=2.5497361843932245), OrderedStatistic(items_base=frozenset({'Curtain rods', 'Bathroom organizer', 'Pillow'}), items_add=frozenset({'Ottomans'}), confidence=0.7666666666666666, lift=2.320343694718221)]),\n",
       " RelationRecord(items=frozenset({'Blankets', 'Mattress', 'Bedframe', 'Pillow'}), support=0.00751503006012024, ordered_statistics=[OrderedStatistic(items_base=frozenset({'Blankets', 'Mattress', 'Bedframe'}), items_add=frozenset({'Pillow'}), confidence=0.34883720930232553, lift=2.513642851145999), OrderedStatistic(items_base=frozenset({'Blankets', 'Bedframe', 'Pillow'}), items_add=frozenset({'Mattress'}), confidence=0.5357142857142857, lift=2.0843776106934), OrderedStatistic(items_base=frozenset({'Pillow', 'Mattress', 'Bedframe'}), items_add=frozenset({'Blankets'}), confidence=0.3947368421052631, lift=2.0332767402376906)]),\n",
       " RelationRecord(items=frozenset({'Chairs', 'Mattress', 'Bedframe', 'Ottomans'}), support=0.005260521042084168, ordered_statistics=[OrderedStatistic(items_base=frozenset({'Chairs', 'Bedframe', 'Ottomans'}), items_add=frozenset({'Mattress'}), confidence=0.6, lift=2.334502923976608)]),\n",
       " RelationRecord(items=frozenset({'Chairs', 'nan', 'Bedframe', 'Pillow'}), support=0.006012024048096192, ordered_statistics=[OrderedStatistic(items_base=frozenset({'Chairs', 'nan', 'Bedframe'}), items_add=frozenset({'Pillow'}), confidence=0.31999999999999995, lift=2.305848375451263)]),\n",
       " RelationRecord(items=frozenset({'Curtain rods', 'Mattress', 'Bedframe', 'Ottomans'}), support=0.0077655310621242485, ordered_statistics=[OrderedStatistic(items_base=frozenset({'Curtain rods', 'Bedframe', 'Ottomans'}), items_add=frozenset({'Mattress'}), confidence=0.5535714285714286, lift=2.1538568643831804), OrderedStatistic(items_base=frozenset({'Curtain rods', 'Mattress', 'Ottomans'}), items_add=frozenset({'Bedframe'}), confidence=0.4626865671641791, lift=2.0252683948677666)]),\n",
       " RelationRecord(items=frozenset({'Pillow', 'Mattress', 'Bedframe', 'Media storage'}), support=0.006012024048096192, ordered_statistics=[OrderedStatistic(items_base=frozenset({'Mattress', 'Bedframe', 'Media storage'}), items_add=frozenset({'Pillow'}), confidence=0.34285714285714286, lift=2.4705518308406393)]),\n",
       " RelationRecord(items=frozenset({'Pillow', 'Mattress', 'Bedframe', 'Ottomans'}), support=0.010521042084168337, ordered_statistics=[OrderedStatistic(items_base=frozenset({'Mattress', 'Bedframe', 'Ottomans'}), items_add=frozenset({'Pillow'}), confidence=0.32558139534883723, lift=2.3460666610695995)]),\n",
       " RelationRecord(items=frozenset({'Pillow cases', 'Mattress', 'Bedframe', 'Ottomans'}), support=0.007264529058116233, ordered_statistics=[OrderedStatistic(items_base=frozenset({'Pillow cases', 'Mattress', 'Ottomans'}), items_add=frozenset({'Bedframe'}), confidence=0.5178571428571429, lift=2.266760651629073)]),\n",
       " RelationRecord(items=frozenset({'Mattress', 'Bedframe', 'Ottomans', 'TV stand'}), support=0.00751503006012024, ordered_statistics=[OrderedStatistic(items_base=frozenset({'Mattress', 'Ottomans', 'TV stand'}), items_add=frozenset({'Bedframe'}), confidence=0.4761904761904762, lift=2.0843776106934)]),\n",
       " RelationRecord(items=frozenset({'Pillow', 'Mattress', 'Bedframe', 'Pillow cases'}), support=0.005761523046092184, ordered_statistics=[OrderedStatistic(items_base=frozenset({'Pillow', 'Mattress', 'Bedframe'}), items_add=frozenset({'Pillow cases'}), confidence=0.30263157894736836, lift=2.3277558056992187), OrderedStatistic(items_base=frozenset({'Pillow cases', 'Mattress', 'Bedframe'}), items_add=frozenset({'Pillow'}), confidence=0.4509803921568627, lift=3.249663764422736), OrderedStatistic(items_base=frozenset({'Pillow', 'Bedframe', 'Pillow cases'}), items_add=frozenset({'Mattress'}), confidence=0.6388888888888888, lift=2.4858132986787953), OrderedStatistic(items_base=frozenset({'Pillow', 'Mattress', 'Pillow cases'}), items_add=frozenset({'Bedframe'}), confidence=0.575, lift=2.5168859649122806)]),\n",
       " RelationRecord(items=frozenset({'nan', 'Mattress', 'Soap dishes', 'Bedframe'}), support=0.006513026052104208, ordered_statistics=[OrderedStatistic(items_base=frozenset({'nan', 'Soap dishes', 'Mattress'}), items_add=frozenset({'Bedframe'}), confidence=0.46428571428571425, lift=2.032268170426065)]),\n",
       " RelationRecord(items=frozenset({'Mattress', 'nan', 'Bedframe', 'Sofa'}), support=0.005761523046092184, ordered_statistics=[OrderedStatistic(items_base=frozenset({'nan', 'Bedframe', 'Sofa'}), items_add=frozenset({'Mattress'}), confidence=0.5609756097560975, lift=2.1826653354252836)]),\n",
       " RelationRecord(items=frozenset({'Pillow', 'Bedframe', 'Media storage', 'Ottomans'}), support=0.006763527054108216, ordered_statistics=[OrderedStatistic(items_base=frozenset({'Bedframe', 'Media storage', 'Ottomans'}), items_add=frozenset({'Pillow'}), confidence=0.313953488372093, lift=2.2622785660313998)]),\n",
       " RelationRecord(items=frozenset({'Pillow', 'Bedframe', 'Pillow cases', 'Ottomans'}), support=0.005761523046092184, ordered_statistics=[OrderedStatistic(items_base=frozenset({'Pillow cases', 'Bedframe', 'Ottomans'}), items_add=frozenset({'Pillow'}), confidence=0.396551724137931, lift=2.857462965268268), OrderedStatistic(items_base=frozenset({'Pillow', 'Pillow cases', 'Ottomans'}), items_add=frozenset({'Bedframe'}), confidence=0.5348837209302325, lift=2.3412892696858423)]),\n",
       " RelationRecord(items=frozenset({'Mattress', 'nan', 'Chairs', 'TV stand'}), support=0.006513026052104208, ordered_statistics=[OrderedStatistic(items_base=frozenset({'nan', 'Chairs', 'TV stand'}), items_add=frozenset({'Mattress'}), confidence=0.5909090909090908, lift=2.29913166755272)]),\n",
       " RelationRecord(items=frozenset({'Curtain rods', 'Mattress', 'Ottomans', 'Pillow'}), support=0.006012024048096192, ordered_statistics=[OrderedStatistic(items_base=frozenset({'Curtain rods', 'Mattress', 'Ottomans'}), items_add=frozenset({'Pillow'}), confidence=0.35820895522388063, lift=2.5811735546096237), OrderedStatistic(items_base=frozenset({'Curtain rods', 'Mattress', 'Pillow'}), items_add=frozenset({'Ottomans'}), confidence=0.7272727272727273, lift=2.2011165483493005)]),\n",
       " RelationRecord(items=frozenset({'Pillow', 'Mattress', 'Media storage', 'Ottomans'}), support=0.00751503006012024, ordered_statistics=[OrderedStatistic(items_base=frozenset({'Mattress', 'Media storage', 'Ottomans'}), items_add=frozenset({'Pillow'}), confidence=0.32608695652173914, lift=2.3497096217234343)]),\n",
       " RelationRecord(items=frozenset({'Pillow', 'Mattress', 'Pillow cases', 'Ottomans'}), support=0.006262525050100201, ordered_statistics=[OrderedStatistic(items_base=frozenset({'Pillow cases', 'Mattress', 'Ottomans'}), items_add=frozenset({'Pillow'}), confidence=0.44642857142857145, lift=3.2168643630737495), OrderedStatistic(items_base=frozenset({'Pillow', 'Pillow cases', 'Ottomans'}), items_add=frozenset({'Mattress'}), confidence=0.5813953488372093, lift=2.262115236411442)]),\n",
       " RelationRecord(items=frozenset({'Pillow', 'nan', 'Mattress', 'Pillow cases'}), support=0.008016032064128256, ordered_statistics=[OrderedStatistic(items_base=frozenset({'Pillow cases', 'nan', 'Mattress'}), items_add=frozenset({'Pillow'}), confidence=0.3018867924528302, lift=2.1753286560860974)]),\n",
       " RelationRecord(items=frozenset({'Pillow', 'nan', 'Wall lights', 'Ottomans'}), support=0.006513026052104208, ordered_statistics=[OrderedStatistic(items_base=frozenset({'Wall lights', 'nan', 'Ottomans'}), items_add=frozenset({'Pillow'}), confidence=0.30588235294117644, lift=2.2041197706519426)]),\n",
       " RelationRecord(items=frozenset({'Blankets', 'Bathroom organizer', 'nan', 'Mattress', 'Media storage'}), support=0.005761523046092184, ordered_statistics=[OrderedStatistic(items_base=frozenset({'Media storage', 'nan', 'Mattress', 'Bathroom organizer'}), items_add=frozenset({'Blankets'}), confidence=0.396551724137931, lift=2.0426251390433814)]),\n",
       " RelationRecord(items=frozenset({'Blankets', 'Bathroom organizer', 'Pillow', 'nan', 'Mattress'}), support=0.005761523046092184, ordered_statistics=[OrderedStatistic(items_base=frozenset({'Pillow', 'nan', 'Mattress', 'Bathroom organizer'}), items_add=frozenset({'Blankets'}), confidence=0.42592592592592593, lift=2.1939307048984467)]),\n",
       " RelationRecord(items=frozenset({'Ottomans', 'Blankets', 'Bathroom organizer', 'nan', 'Media storage'}), support=0.00876753507014028, ordered_statistics=[OrderedStatistic(items_base=frozenset({'Media storage', 'nan', 'Bathroom organizer', 'Ottomans'}), items_add=frozenset({'Blankets'}), confidence=0.38888888888888884, lift=2.003154121863799)]),\n",
       " RelationRecord(items=frozenset({'Ottomans', 'Curtain rods', 'Bathroom organizer', 'nan', 'Mattress'}), support=0.007264529058116233, ordered_statistics=[OrderedStatistic(items_base=frozenset({'Curtain rods', 'nan', 'Mattress', 'Bathroom organizer'}), items_add=frozenset({'Ottomans'}), confidence=0.6744186046511628, lift=2.0411516829169387)]),\n",
       " RelationRecord(items=frozenset({'Blankets', 'Bedframe', 'Pillow', 'nan', 'Mattress'}), support=0.006012024048096192, ordered_statistics=[OrderedStatistic(items_base=frozenset({'Blankets', 'Mattress', 'nan', 'Bedframe'}), items_add=frozenset({'Pillow'}), confidence=0.3037974683544304, lift=2.1890965589727185)]),\n",
       " RelationRecord(items=frozenset({'Ottomans', 'Curtain rods', 'Bedframe', 'nan', 'Mattress'}), support=0.0070140280561122245, ordered_statistics=[OrderedStatistic(items_base=frozenset({'Curtain rods', 'nan', 'Bedframe', 'Ottomans'}), items_add=frozenset({'Mattress'}), confidence=0.5384615384615385, lift=2.0950667266456744)]),\n",
       " RelationRecord(items=frozenset({'Ottomans', 'Bedframe', 'Pillow cases', 'nan', 'Mattress'}), support=0.005761523046092184, ordered_statistics=[OrderedStatistic(items_base=frozenset({'Pillow cases', 'nan', 'Mattress', 'Ottomans'}), items_add=frozenset({'Bedframe'}), confidence=0.4693877551020408, lift=2.054600787683494)]),\n",
       " RelationRecord(items=frozenset({'Ottomans', 'Curtain rods', 'Pillow', 'nan', 'Mattress'}), support=0.005260521042084168, ordered_statistics=[OrderedStatistic(items_base=frozenset({'Curtain rods', 'nan', 'Mattress', 'Ottomans'}), items_add=frozenset({'Pillow'}), confidence=0.32812500000000006, lift=2.364395306859206), OrderedStatistic(items_base=frozenset({'Curtain rods', 'nan', 'Mattress', 'Pillow'}), items_add=frozenset({'Ottomans'}), confidence=0.7241379310344828, lift=2.191628977020209)]),\n",
       " RelationRecord(items=frozenset({'Ottomans', 'Pillow', 'nan', 'Mattress', 'Media storage'}), support=0.006763527054108216, ordered_statistics=[OrderedStatistic(items_base=frozenset({'nan', 'Mattress', 'Media storage', 'Ottomans'}), items_add=frozenset({'Pillow'}), confidence=0.3033707865168539, lift=2.1860219851539364)])]"
      ]
     },
     "execution_count": 16,
     "metadata": {},
     "output_type": "execute_result"
    }
   ],
   "source": [
    "results"
   ]
  },
  {
   "cell_type": "code",
   "execution_count": 17,
   "metadata": {},
   "outputs": [],
   "source": [
    "lift = []\n",
    "association = []\n",
    "for i in range (0, len(results)):\n",
    "    lift.append(results[:len(results)][i][2][0][3])\n",
    "    association.append(list(results[:len(results)][i][0]))"
   ]
  },
  {
   "cell_type": "markdown",
   "metadata": {},
   "source": [
    "### Lets see which products are brought together"
   ]
  },
  {
   "cell_type": "code",
   "execution_count": 63,
   "metadata": {},
   "outputs": [],
   "source": [
    "rank = pd.DataFrame([association, lift]).T\n",
    "rank.columns = ['Association', 'Lift']"
   ]
  },
  {
   "cell_type": "code",
   "execution_count": 64,
   "metadata": {},
   "outputs": [
    {
     "data": {
      "text/html": [
       "<div>\n",
       "<style scoped>\n",
       "    .dataframe tbody tr th:only-of-type {\n",
       "        vertical-align: middle;\n",
       "    }\n",
       "\n",
       "    .dataframe tbody tr th {\n",
       "        vertical-align: top;\n",
       "    }\n",
       "\n",
       "    .dataframe thead th {\n",
       "        text-align: right;\n",
       "    }\n",
       "</style>\n",
       "<table border=\"1\" class=\"dataframe\">\n",
       "  <thead>\n",
       "    <tr style=\"text-align: right;\">\n",
       "      <th></th>\n",
       "      <th>Association</th>\n",
       "      <th>Lift</th>\n",
       "    </tr>\n",
       "  </thead>\n",
       "  <tbody>\n",
       "    <tr>\n",
       "      <th>41</th>\n",
       "      <td>[Pillow, Mattress, Pillow cases, Ottomans]</td>\n",
       "      <td>3.21686</td>\n",
       "    </tr>\n",
       "    <tr>\n",
       "      <th>37</th>\n",
       "      <td>[Pillow, Bedframe, Pillow cases, Ottomans]</td>\n",
       "      <td>2.85746</td>\n",
       "    </tr>\n",
       "    <tr>\n",
       "      <th>39</th>\n",
       "      <td>[Curtain rods, Mattress, Ottomans, Pillow]</td>\n",
       "      <td>2.58117</td>\n",
       "    </tr>\n",
       "    <tr>\n",
       "      <th>24</th>\n",
       "      <td>[Curtain rods, Bathroom organizer, Ottomans, P...</td>\n",
       "      <td>2.54974</td>\n",
       "    </tr>\n",
       "    <tr>\n",
       "      <th>25</th>\n",
       "      <td>[Blankets, Mattress, Bedframe, Pillow]</td>\n",
       "      <td>2.51364</td>\n",
       "    </tr>\n",
       "    <tr>\n",
       "      <th>14</th>\n",
       "      <td>[Pillow, Mattress, Pillow cases]</td>\n",
       "      <td>2.50636</td>\n",
       "    </tr>\n",
       "    <tr>\n",
       "      <th>3</th>\n",
       "      <td>[Chairs, Bedframe, Pillow]</td>\n",
       "      <td>2.49431</td>\n",
       "    </tr>\n",
       "    <tr>\n",
       "      <th>11</th>\n",
       "      <td>[Pillow, Bedframe, Wall lights]</td>\n",
       "      <td>2.48068</td>\n",
       "    </tr>\n",
       "    <tr>\n",
       "      <th>29</th>\n",
       "      <td>[Pillow, Mattress, Bedframe, Media storage]</td>\n",
       "      <td>2.47055</td>\n",
       "    </tr>\n",
       "    <tr>\n",
       "      <th>12</th>\n",
       "      <td>[Mattress, Chairs, TV stand]</td>\n",
       "      <td>2.43177</td>\n",
       "    </tr>\n",
       "  </tbody>\n",
       "</table>\n",
       "</div>"
      ],
      "text/plain": [
       "                                          Association     Lift\n",
       "41         [Pillow, Mattress, Pillow cases, Ottomans]  3.21686\n",
       "37         [Pillow, Bedframe, Pillow cases, Ottomans]  2.85746\n",
       "39         [Curtain rods, Mattress, Ottomans, Pillow]  2.58117\n",
       "24  [Curtain rods, Bathroom organizer, Ottomans, P...  2.54974\n",
       "25             [Blankets, Mattress, Bedframe, Pillow]  2.51364\n",
       "14                   [Pillow, Mattress, Pillow cases]  2.50636\n",
       "3                          [Chairs, Bedframe, Pillow]  2.49431\n",
       "11                    [Pillow, Bedframe, Wall lights]  2.48068\n",
       "29        [Pillow, Mattress, Bedframe, Media storage]  2.47055\n",
       "12                       [Mattress, Chairs, TV stand]  2.43177"
      ]
     },
     "execution_count": 64,
     "metadata": {},
     "output_type": "execute_result"
    }
   ],
   "source": [
    "# Show top 10 higher lift scores\n",
    "rank.sort_values('Lift', ascending=False).head(10)"
   ]
  },
  {
   "cell_type": "markdown",
   "metadata": {},
   "source": [
    "Hence, we get to know that there is maximum probability of buying Pillow, Mattress, Pillow cases and Ottamans together. It indicates that a person is likely to buy Mattress, Pillow cases and Ottomans if he buys a pillow.   "
   ]
  },
  {
   "cell_type": "markdown",
   "metadata": {},
   "source": [
    "## ECLAT Implementation\n"
   ]
  },
  {
   "cell_type": "markdown",
   "metadata": {},
   "source": [
    "#### Getting the list of products in a list"
   ]
  },
  {
   "cell_type": "code",
   "execution_count": 32,
   "metadata": {},
   "outputs": [],
   "source": [
    "# Putting all transactions in a single list\n",
    "itens = []\n",
    "for i in range(1, len(transactions)):\n",
    "    itens.extend(transactions[i])\n",
    "\n",
    "# Finding unique items from transactions and removing nan\n",
    "uniqueItems = list(set(itens))\n",
    "uniqueItems.remove('nan')"
   ]
  },
  {
   "cell_type": "markdown",
   "metadata": {},
   "source": [
    "#### Creating combinations with the items - pairs"
   ]
  },
  {
   "cell_type": "code",
   "execution_count": 34,
   "metadata": {},
   "outputs": [],
   "source": [
    "pair = []\n",
    "for j in range(1, len(uniqueItems)):\n",
    "    k = 1;\n",
    "    while k <= len(uniqueItems):\n",
    "        try:\n",
    "            pair.append([uniqueItems[j], uniqueItems[j+k]])\n",
    "        except IndexError:\n",
    "            pass\n",
    "        k = k + 1;       "
   ]
  },
  {
   "cell_type": "markdown",
   "metadata": {},
   "source": [
    "#### Calculating score\n",
    "The calculation is done looking at the number of customers that bought both items (the pair) and divided by all customers (3992). This calculation is done for all pairs possible and the score is returned on \"score\" list.\n",
    "\n",
    "<center> . </center>\n",
    "<center> *** score = (# lists that contain [item x and item y]) / (# all lists) ***</center>"
   ]
  },
  {
   "cell_type": "code",
   "execution_count": 35,
   "metadata": {},
   "outputs": [],
   "source": [
    "score = []\n",
    "for i in pair:\n",
    "    cond = []\n",
    "    for item in i:\n",
    "        cond.append('(\"%s\") in s' %item)\n",
    "    mycode = ('[s for s in transactions if ' + ' and '.join(cond) + ']')\n",
    "    #mycode = \"print 'hello world'\"\n",
    "    score.append(len(eval(mycode))/3993.)"
   ]
  },
  {
   "cell_type": "markdown",
   "metadata": {},
   "source": [
    "#### Showing results\n",
    "\n",
    "Top 10 Most common pairs of items"
   ]
  },
  {
   "cell_type": "code",
   "execution_count": 36,
   "metadata": {},
   "outputs": [],
   "source": [
    "ranking_ECLAT = pd.DataFrame([pair, score]).T\n",
    "ranking_ECLAT.columns = ['Pair', 'Score']"
   ]
  },
  {
   "cell_type": "code",
   "execution_count": 37,
   "metadata": {},
   "outputs": [
    {
     "data": {
      "text/html": [
       "<div>\n",
       "<style scoped>\n",
       "    .dataframe tbody tr th:only-of-type {\n",
       "        vertical-align: middle;\n",
       "    }\n",
       "\n",
       "    .dataframe tbody tr th {\n",
       "        vertical-align: top;\n",
       "    }\n",
       "\n",
       "    .dataframe thead th {\n",
       "        text-align: right;\n",
       "    }\n",
       "</style>\n",
       "<table border=\"1\" class=\"dataframe\">\n",
       "  <thead>\n",
       "    <tr style=\"text-align: right;\">\n",
       "      <th></th>\n",
       "      <th>Pair</th>\n",
       "      <th>Score</th>\n",
       "    </tr>\n",
       "  </thead>\n",
       "  <tbody>\n",
       "    <tr>\n",
       "      <th>117</th>\n",
       "      <td>[Ottomans, Bathroom organizer]</td>\n",
       "      <td>0.0984222</td>\n",
       "    </tr>\n",
       "    <tr>\n",
       "      <th>51</th>\n",
       "      <td>[Mattress, Ottomans]</td>\n",
       "      <td>0.0964187</td>\n",
       "    </tr>\n",
       "    <tr>\n",
       "      <th>116</th>\n",
       "      <td>[Ottomans, Bedframe]</td>\n",
       "      <td>0.0823942</td>\n",
       "    </tr>\n",
       "    <tr>\n",
       "      <th>122</th>\n",
       "      <td>[Ottomans, Blankets]</td>\n",
       "      <td>0.0788881</td>\n",
       "    </tr>\n",
       "    <tr>\n",
       "      <th>131</th>\n",
       "      <td>[Ottomans, Media storage]</td>\n",
       "      <td>0.0698723</td>\n",
       "    </tr>\n",
       "    <tr>\n",
       "      <th>54</th>\n",
       "      <td>[Mattress, Bathroom organizer]</td>\n",
       "      <td>0.0693714</td>\n",
       "    </tr>\n",
       "    <tr>\n",
       "      <th>53</th>\n",
       "      <td>[Mattress, Bedframe]</td>\n",
       "      <td>0.0688705</td>\n",
       "    </tr>\n",
       "    <tr>\n",
       "      <th>59</th>\n",
       "      <td>[Mattress, Blankets]</td>\n",
       "      <td>0.0618583</td>\n",
       "    </tr>\n",
       "    <tr>\n",
       "      <th>130</th>\n",
       "      <td>[Ottomans, Pillow]</td>\n",
       "      <td>0.0616078</td>\n",
       "    </tr>\n",
       "    <tr>\n",
       "      <th>176</th>\n",
       "      <td>[Bathroom organizer, Blankets]</td>\n",
       "      <td>0.0581017</td>\n",
       "    </tr>\n",
       "  </tbody>\n",
       "</table>\n",
       "</div>"
      ],
      "text/plain": [
       "                               Pair      Score\n",
       "117  [Ottomans, Bathroom organizer]  0.0984222\n",
       "51             [Mattress, Ottomans]  0.0964187\n",
       "116            [Ottomans, Bedframe]  0.0823942\n",
       "122            [Ottomans, Blankets]  0.0788881\n",
       "131       [Ottomans, Media storage]  0.0698723\n",
       "54   [Mattress, Bathroom organizer]  0.0693714\n",
       "53             [Mattress, Bedframe]  0.0688705\n",
       "59             [Mattress, Blankets]  0.0618583\n",
       "130              [Ottomans, Pillow]  0.0616078\n",
       "176  [Bathroom organizer, Blankets]  0.0581017"
      ]
     },
     "execution_count": 37,
     "metadata": {},
     "output_type": "execute_result"
    }
   ],
   "source": [
    "ranking_ECLAT.sort_values('Score', ascending=False).head(10)"
   ]
  },
  {
   "cell_type": "markdown",
   "metadata": {},
   "source": [
    "### Lets try it for combination of 3 products"
   ]
  },
  {
   "cell_type": "code",
   "execution_count": 38,
   "metadata": {},
   "outputs": [],
   "source": [
    "# Creating trios\n",
    "trio = []\n",
    "for j in range(0, len(uniqueItems)):\n",
    "    for k in range(j, len(uniqueItems)):\n",
    "        for l in range(k, len(uniqueItems)):\n",
    "            if (k != j) and (j != l) and (k != l):\n",
    "                try:\n",
    "                    trio.append([uniqueItems[j], uniqueItems[j+k], uniqueItems[j+l]])\n",
    "                except IndexError:\n",
    "                    pass "
   ]
  },
  {
   "cell_type": "code",
   "execution_count": 39,
   "metadata": {
    "scrolled": false
   },
   "outputs": [
    {
     "data": {
      "text/plain": [
       "[['Ceiling lights', 'Accent table', 'TV stand'],\n",
       " ['Ceiling lights', 'Accent table', 'Mattress'],\n",
       " ['Ceiling lights', 'Accent table', 'Pillow cases '],\n",
       " ['Ceiling lights', 'Accent table', ' Accent table'],\n",
       " ['Ceiling lights', 'Accent table', 'Ottomans']]"
      ]
     },
     "execution_count": 39,
     "metadata": {},
     "output_type": "execute_result"
    }
   ],
   "source": [
    "trio[:5]"
   ]
  },
  {
   "cell_type": "code",
   "execution_count": 40,
   "metadata": {},
   "outputs": [],
   "source": [
    "score_trio = []\n",
    "for i in trio:\n",
    "    cond = []\n",
    "    for item in i:\n",
    "        cond.append('(\"%s\") in s' %item)\n",
    "    mycode = ('[s for s in transactions if ' + ' and '.join(cond) + ']')\n",
    "    #mycode = \"print 'hello world'\"\n",
    "    score_trio.append(len(eval(mycode))/3993.)"
   ]
  },
  {
   "cell_type": "code",
   "execution_count": 41,
   "metadata": {},
   "outputs": [
    {
     "data": {
      "text/html": [
       "<div>\n",
       "<style scoped>\n",
       "    .dataframe tbody tr th:only-of-type {\n",
       "        vertical-align: middle;\n",
       "    }\n",
       "\n",
       "    .dataframe tbody tr th {\n",
       "        vertical-align: top;\n",
       "    }\n",
       "\n",
       "    .dataframe thead th {\n",
       "        text-align: right;\n",
       "    }\n",
       "</style>\n",
       "<table border=\"1\" class=\"dataframe\">\n",
       "  <thead>\n",
       "    <tr style=\"text-align: right;\">\n",
       "      <th></th>\n",
       "      <th>Trio</th>\n",
       "      <th>Score</th>\n",
       "    </tr>\n",
       "  </thead>\n",
       "  <tbody>\n",
       "    <tr>\n",
       "      <th>851</th>\n",
       "      <td>[Mattress, Bedframe, Bathroom organizer]</td>\n",
       "      <td>0.0240421</td>\n",
       "    </tr>\n",
       "    <tr>\n",
       "      <th>873</th>\n",
       "      <td>[Mattress, Bathroom organizer, Blankets]</td>\n",
       "      <td>0.0230403</td>\n",
       "    </tr>\n",
       "    <tr>\n",
       "      <th>1316</th>\n",
       "      <td>[Ottomans, Blankets, Media storage]</td>\n",
       "      <td>0.022289</td>\n",
       "    </tr>\n",
       "    <tr>\n",
       "      <th>856</th>\n",
       "      <td>[Mattress, Bedframe, Blankets]</td>\n",
       "      <td>0.0215377</td>\n",
       "    </tr>\n",
       "    <tr>\n",
       "      <th>864</th>\n",
       "      <td>[Mattress, Bedframe, Pillow]</td>\n",
       "      <td>0.0190333</td>\n",
       "    </tr>\n",
       "    <tr>\n",
       "      <th>327</th>\n",
       "      <td>[Accent table, Mattress, Ottomans]</td>\n",
       "      <td>0.0175307</td>\n",
       "    </tr>\n",
       "    <tr>\n",
       "      <th>865</th>\n",
       "      <td>[Mattress, Bedframe, Media storage]</td>\n",
       "      <td>0.0175307</td>\n",
       "    </tr>\n",
       "    <tr>\n",
       "      <th>1376</th>\n",
       "      <td>[Ottomans, Pillow, Media storage]</td>\n",
       "      <td>0.0170298</td>\n",
       "    </tr>\n",
       "    <tr>\n",
       "      <th>951</th>\n",
       "      <td>[Mattress, Blankets, Pillow]</td>\n",
       "      <td>0.0170298</td>\n",
       "    </tr>\n",
       "    <tr>\n",
       "      <th>881</th>\n",
       "      <td>[Mattress, Bathroom organizer, Pillow]</td>\n",
       "      <td>0.0162785</td>\n",
       "    </tr>\n",
       "  </tbody>\n",
       "</table>\n",
       "</div>"
      ],
      "text/plain": [
       "                                          Trio      Score\n",
       "851   [Mattress, Bedframe, Bathroom organizer]  0.0240421\n",
       "873   [Mattress, Bathroom organizer, Blankets]  0.0230403\n",
       "1316       [Ottomans, Blankets, Media storage]   0.022289\n",
       "856             [Mattress, Bedframe, Blankets]  0.0215377\n",
       "864               [Mattress, Bedframe, Pillow]  0.0190333\n",
       "327         [Accent table, Mattress, Ottomans]  0.0175307\n",
       "865        [Mattress, Bedframe, Media storage]  0.0175307\n",
       "1376         [Ottomans, Pillow, Media storage]  0.0170298\n",
       "951               [Mattress, Blankets, Pillow]  0.0170298\n",
       "881     [Mattress, Bathroom organizer, Pillow]  0.0162785"
      ]
     },
     "execution_count": 41,
     "metadata": {},
     "output_type": "execute_result"
    }
   ],
   "source": [
    "ranking_ECLAT_trio = pd.DataFrame([trio, score_trio]).T\n",
    "ranking_ECLAT_trio.columns = ['Trio', 'Score']\n",
    "ranking_ECLAT_trio.sort_values('Score', ascending=False).head(10)"
   ]
  },
  {
   "cell_type": "markdown",
   "metadata": {},
   "source": [
    "## What about comparing the results from Apriori and ECLAT?"
   ]
  },
  {
   "cell_type": "markdown",
   "metadata": {},
   "source": [
    "We got from Apriori that the combination that lead to more \"attractiveness power\" is \"Pillow\", \"Mattress\" and \"Pillow cases\" and \"Ottomans\". If we run the ECLAT code for this set of items, we will obtain: 0.0039.\n",
    "\n",
    "This score of 3 items has not enough score to be placed among top 10, but they are measuring different metrics.  According to apriori these are the items that when picked one lead to another items more frequently than other combinations, i.e. when a person pick 'olive oil', the probability of picking 'whole wheat pasta' and 'mineral water' is much higher than picking another combination. ECLAT in another hand is just sorting as the most common combinations of all lists, not caring about how one item isolatedly can influence in the purchase of another."
   ]
  },
  {
   "cell_type": "code",
   "execution_count": 111,
   "metadata": {},
   "outputs": [],
   "source": [
    "i = [\"Pillow\", \"Mattress\", \"Pillow cases\", \"Ottomans\"]\n",
    "cond = []\n",
    "for item in i:\n",
    "    cond.append('(\"%s\") in s' %item)\n",
    "mycode = ('[s for s in transactions if ' + ' and '.join(cond) + ']')\n",
    "#mycode = \"print 'hello world'\"\n",
    "tra = eval(mycode)"
   ]
  },
  {
   "cell_type": "code",
   "execution_count": 112,
   "metadata": {},
   "outputs": [
    {
     "name": "stdout",
     "output_type": "stream",
     "text": [
      "Score for \"Pillow\", \"Mattress\", \"Pillow cases\", \"Ottomans\"]: 0.006262525050100201\n"
     ]
    }
   ],
   "source": [
    "print ('Score for \"Pillow\", \"Mattress\", \"Pillow cases\", \"Ottomans\"]:', len(tra)/3992.)"
   ]
  },
  {
   "cell_type": "code",
   "execution_count": null,
   "metadata": {
    "collapsed": true
   },
   "outputs": [],
   "source": []
  }
 ],
 "metadata": {
  "anaconda-cloud": {},
  "kernelspec": {
   "display_name": "Python 3",
   "language": "python",
   "name": "python3"
  },
  "language_info": {
   "codemirror_mode": {
    "name": "ipython",
    "version": 3
   },
   "file_extension": ".py",
   "mimetype": "text/x-python",
   "name": "python",
   "nbconvert_exporter": "python",
   "pygments_lexer": "ipython3",
   "version": "3.6.4"
  }
 },
 "nbformat": 4,
 "nbformat_minor": 1
}
